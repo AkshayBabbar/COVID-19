{
 "cells": [
  {
   "cell_type": "markdown",
   "metadata": {},
   "source": [
    "#  While Loop in Python\n",
    "\n",
    "   `The Famous entry controlled loop where the condition to enter is checked early`\n",
    "   \n",
    "   `So you don't waste time iterating if the base condition is not valid.`\n"
   ]
  },
  {
   "cell_type": "markdown",
   "metadata": {},
   "source": [
    "# Structure of While Loop:\n",
    "\n",
    "`while condition:`\n",
    "> `Body of while`\n",
    "***\n",
    "` The body of loop is entered only when the condition mentioned is `<B>TRUE.</B>\n",
    "\n",
    "` After one iteration ,the condition is checked again.`\n",
    "\n",
    "` THi sprocess continues till the condition is `<B>FALSE.<B>\n",
    "    \n",
    "    \n"
   ]
  },
  {
   "cell_type": "code",
   "execution_count": 3,
   "metadata": {},
   "outputs": [
    {
     "name": "stdout",
     "output_type": "stream",
     "text": [
      "The product of all the mentioned number is 334042800\n"
     ]
    }
   ],
   "source": [
    "#Find the product of all the number that are present in the list.\n",
    "\n",
    "list = [19,20,26,98,15,23]\n",
    "\n",
    "product = 1\n",
    "i = 0\n",
    "while i< len(list):\n",
    "    product *= list[i]\n",
    "    i+=1\n",
    "\n",
    "print(\"The product of all the mentioned number is {}\".format(product))"
   ]
  },
  {
   "cell_type": "code",
   "execution_count": 12,
   "metadata": {},
   "outputs": [
    {
     "name": "stdout",
     "output_type": "stream",
     "text": [
      "Please enter the number that you have to enter: 89\n",
      "89 is divisible by 3\n",
      "89 is not a prime number\n"
     ]
    }
   ],
   "source": [
    "#Check the number is prime or not\n",
    "\n",
    "\n",
    "num = int(input(\"Please enter the number that you have to enter: \"))\n",
    "\n",
    "isDivisible = False;\n",
    "\n",
    "squareRoot  = math.sqrt(num)  # this neat trick will save us some time\n",
    "\n",
    "# print(squareRoot)   \n",
    "\n",
    "checkedValue  = math.floor(squareRoot)  # Taking the floor to make integer calculation faster.\n",
    "\n",
    "# print(checkedValue)\n",
    "\n",
    "\n",
    "i = 2\n",
    "\n",
    "while i<checkedValue:\n",
    "    if(checkedValue%i == 0):\n",
    "        isDivisible = True\n",
    "        print(\"{} is divisible by {}\".format(num,i))\n",
    "    i+=1;\n",
    "if isDivisible:\n",
    "    print(\"{} is not a prime number\".format(num))\n",
    "else:\n",
    "    print(\"{} is a prime number\".format(num))\n",
    "    \n",
    "        "
   ]
  },
  {
   "cell_type": "code",
   "execution_count": null,
   "metadata": {},
   "outputs": [],
   "source": []
  }
 ],
 "metadata": {
  "kernelspec": {
   "display_name": "Python 3",
   "language": "python",
   "name": "python3"
  },
  "language_info": {
   "codemirror_mode": {
    "name": "ipython",
    "version": 3
   },
   "file_extension": ".py",
   "mimetype": "text/x-python",
   "name": "python",
   "nbconvert_exporter": "python",
   "pygments_lexer": "ipython3",
   "version": "3.7.6"
  }
 },
 "nbformat": 4,
 "nbformat_minor": 4
}
