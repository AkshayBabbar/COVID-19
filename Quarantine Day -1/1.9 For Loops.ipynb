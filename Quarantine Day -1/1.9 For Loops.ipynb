{
 "cells": [
  {
   "cell_type": "markdown",
   "metadata": {},
   "source": [
    "# Iteration Second Part: For Loop\n",
    "`This is used to iterate over  a sequence contigous data like array, list,tuple etc.`\n",
    "\n",
    "# Syntax:\n",
    "\n",
    "`for element in sequence i`\n",
    "> `body of FOR LOOP`\n",
    "\n",
    "`here the element is iterated over the list till the end of list.`\n",
    "\n",
    "`Loop will continue till the end of iteration.`"
   ]
  },
  {
   "cell_type": "code",
   "execution_count": 2,
   "metadata": {},
   "outputs": [
    {
     "name": "stdout",
     "output_type": "stream",
     "text": [
      "Product is 334042800\n"
     ]
    }
   ],
   "source": [
    "#Find the product of all the number that are present in the list.\n",
    "\n",
    "list = [19,20,26,98,15,23]\n",
    "\n",
    "product = 1\n",
    "\n",
    "for iterate in list:\n",
    "    product*= iterate\n",
    "    \n",
    "print(\"Product is {}\" .format(product))"
   ]
  },
  {
   "cell_type": "markdown",
   "metadata": {},
   "source": [
    "# Range Function\n",
    "\n",
    "`We can generate a sequence of number using the range() function.`\n",
    "like\n",
    "`range(10) will generate the numbers from 0 to 9`\n",
    "\n",
    "`We can also pass parameters in this like start,stop and step size(default is 1)`\n",
    "> `range(start,stop,stepsize)`\n",
    "\n",
    "` Number are generated on run time to make it efficient.`\n",
    "> ` Like Start then step size till the stop`"
   ]
  },
  {
   "cell_type": "code",
   "execution_count": 4,
   "metadata": {},
   "outputs": [
    {
     "name": "stdout",
     "output_type": "stream",
     "text": [
      "0\n",
      "1\n",
      "2\n",
      "3\n",
      "4\n",
      "5\n",
      "6\n",
      "7\n",
      "8\n",
      "9\n"
     ]
    }
   ],
   "source": [
    "#print 10 number using Range\n",
    "for i in range(10):\n",
    "    print(i)"
   ]
  },
  {
   "cell_type": "code",
   "execution_count": 8,
   "metadata": {},
   "outputs": [
    {
     "name": "stdout",
     "output_type": "stream",
     "text": [
      "1\n",
      "3\n",
      "5\n",
      "7\n",
      "9\n",
      "11\n",
      "13\n",
      "15\n",
      "17\n",
      "19\n"
     ]
    }
   ],
   "source": [
    "#Print 10 numbers using StepSize function\n",
    "\n",
    "for i in range(1,20,2):\n",
    "    print(i)"
   ]
  },
  {
   "cell_type": "code",
   "execution_count": 16,
   "metadata": {},
   "outputs": [
    {
     "name": "stdout",
     "output_type": "stream",
     "text": [
      "prime number between 2 and 19 will be . \n",
      "2\n",
      "3\n",
      "5\n",
      "7\n",
      "11\n",
      "13\n",
      "17\n",
      "19\n"
     ]
    }
   ],
   "source": [
    "#Print prime number within an interval\n",
    "\n",
    "index1 = 2\n",
    "index2  = 19\n",
    "\n",
    "print(\"prime number between {} and {} will be . \".format(index1,index2))\n",
    "\n",
    "for i in range(index1,index2+1):\n",
    "    if i>1:\n",
    "        isDivisible = False;\n",
    "        for j in range(2,i):\n",
    "            if i % j == 0:\n",
    "                isDivisible = True;\n",
    "        if not isDivisible:\n",
    "            print(i);\n",
    "        "
   ]
  },
  {
   "cell_type": "code",
   "execution_count": null,
   "metadata": {},
   "outputs": [],
   "source": []
  }
 ],
 "metadata": {
  "kernelspec": {
   "display_name": "Python 3",
   "language": "python",
   "name": "python3"
  },
  "language_info": {
   "codemirror_mode": {
    "name": "ipython",
    "version": 3
   },
   "file_extension": ".py",
   "mimetype": "text/x-python",
   "name": "python",
   "nbconvert_exporter": "python",
   "pygments_lexer": "ipython3",
   "version": "3.7.6"
  }
 },
 "nbformat": 4,
 "nbformat_minor": 4
}
