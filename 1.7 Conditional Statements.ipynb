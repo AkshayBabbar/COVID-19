{
 "cells": [
  {
   "cell_type": "markdown",
   "metadata": {},
   "source": [
    "# Conditional Statements\n",
    "\n",
    " These are basic if else conditional statements that you may find in other languages.\n"
   ]
  },
  {
   "cell_type": "markdown",
   "metadata": {},
   "source": [
    "## If statements\n",
    "    \n",
    "`if expression underTest: ` \n",
    "> `statements(s)`\n",
    "        \n",
    "\n",
    "This program now evaluates the test expression and will execute statement(s) only if the text expression is True.\n",
    "\n",
    "If the text expression is false, the statement(s) is not executed.\n",
    "Python interprets non zero values as True. None and 0 are interpreted as True."
   ]
  },
  {
   "cell_type": "markdown",
   "metadata": {},
   "source": [
    "# Example\n"
   ]
  },
  {
   "cell_type": "code",
   "execution_count": 2,
   "metadata": {},
   "outputs": [
    {
     "name": "stdout",
     "output_type": "stream",
     "text": [
      "Print everyTime\n"
     ]
    }
   ],
   "source": [
    "#Negative Case\n",
    "num =19; ##This time is covid-19 effect.\n",
    "\n",
    "if num > 19:\n",
    "    print(\"This is true.\")  #This statement will never print since this is negative case.\n",
    "print(\"Print everyTime\")    #Out of Scope of if clause.\n",
    "\n",
    "\n"
   ]
  },
  {
   "cell_type": "code",
   "execution_count": 8,
   "metadata": {},
   "outputs": [
    {
     "name": "stdout",
     "output_type": "stream",
     "text": [
      "This is true.\n",
      "Print everyTime\n"
     ]
    }
   ],
   "source": [
    "#Positive Case\n",
    "num =19; ##This time is covid-19 effect.\n",
    "\n",
    "if num <= 19:\n",
    "    print(\"This is true.\")  #This statement will  print since this is Positive case.\n",
    "print(\"Print everyTime\")    #Out of Scope of if clause.\n",
    "\n",
    "\n"
   ]
  },
  {
   "cell_type": "code",
   "execution_count": 10,
   "metadata": {},
   "outputs": [
    {
     "name": "stdout",
     "output_type": "stream",
     "text": [
      "Print everyTime\n"
     ]
    }
   ],
   "source": [
    "#None Case\n",
    "num =19; ##This time is covid-19 effect.\n",
    "\n",
    "if None:\n",
    "    print(\"This is true.\")  #This statement will  print since this is Positive case.\n",
    "print(\"Print everyTime\")    #Out of Scope of if clause.\n"
   ]
  },
  {
   "cell_type": "markdown",
   "metadata": {},
   "source": [
    "# Print the largest of Three numbers.\n",
    "` I know everyone this is for dummies still gotta do it man.!`"
   ]
  },
  {
   "cell_type": "code",
   "execution_count": 12,
   "metadata": {},
   "outputs": [
    {
     "name": "stdout",
     "output_type": "stream",
     "text": [
      "The largest number of the three is : 70\n"
     ]
    }
   ],
   "source": [
    "\n",
    "num1 = 10\n",
    "num2 = 20\n",
    "num3 = 70\n",
    "\n",
    "if (num1>= num2) and (num1>=num3):\n",
    "    largest = num1\n",
    "elif (num2>= num1) and (num2>=num3):\n",
    "    largest = num2\n",
    "elif (num3>= num1) and (num3>=num2):\n",
    "    largest = num3\n",
    "    \n",
    "print(\"The largest number of the three is : {}\".format(largest)  )    "
   ]
  }
 ],
 "metadata": {
  "kernelspec": {
   "display_name": "Python 3",
   "language": "python",
   "name": "python3"
  },
  "language_info": {
   "codemirror_mode": {
    "name": "ipython",
    "version": 3
   },
   "file_extension": ".py",
   "mimetype": "text/x-python",
   "name": "python",
   "nbconvert_exporter": "python",
   "pygments_lexer": "ipython3",
   "version": "3.7.6"
  }
 },
 "nbformat": 4,
 "nbformat_minor": 4
}
